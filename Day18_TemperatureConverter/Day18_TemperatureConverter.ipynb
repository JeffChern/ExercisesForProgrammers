{
 "cells": [
  {
   "cell_type": "code",
   "execution_count": 59,
   "metadata": {},
   "outputs": [
    {
     "name": "stdout",
     "output_type": "stream",
     "text": [
      "Press C to convert from Fahrenheit to Celsius. \n",
      "Press F to convert from Celsius to Fahrenheit. \n",
      "Your choice: c\n",
      "Please enter the temperature in Fahrenheit: 32\n",
      "The temperature in Celsius is 0\n"
     ]
    }
   ],
   "source": [
    "choice = input(\"Press C to convert from Fahrenheit to Celsius. \\nPress F to convert from Celsius to Fahrenheit. \\nYour choice: \").lower()\n",
    "if choice == 'c':\n",
    "    fahrenheit = input(\"Please enter the temperature in Fahrenheit: \")\n",
    "    if fahrenheit.isdigit():\n",
    "        celsius = (int(fahrenheit) - 32) * 5 / 9\n",
    "        print(\"The temperature in Celsius is {0}\".format('%.0f' %celsius))\n",
    "    else:\n",
    "        print(\"Please enter a number.\")\n",
    "elif choice == 'f':\n",
    "    celsius= input(\"Please enter the temperature in Celsius: \")\n",
    "    if celsius.isdigit():\n",
    "        fahrenheit = (int(celsius) * 9 / 5) + 32\n",
    "        print(\"The temperature in Celsius is {0}\".format(fahrenheit))\n",
    "    else:\n",
    "        print(\"Please enter a number.\")\n",
    "else:\n",
    "    print(\"Please press C or F.\")\n"
   ]
  }
 ],
 "metadata": {
  "kernelspec": {
   "display_name": "Python 3",
   "language": "python",
   "name": "python3"
  },
  "language_info": {
   "codemirror_mode": {
    "name": "ipython",
    "version": 3
   },
   "file_extension": ".py",
   "mimetype": "text/x-python",
   "name": "python",
   "nbconvert_exporter": "python",
   "pygments_lexer": "ipython3",
   "version": "3.6.1"
  }
 },
 "nbformat": 4,
 "nbformat_minor": 2
}
