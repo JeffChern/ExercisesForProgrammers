{
 "cells": [
  {
   "cell_type": "code",
   "execution_count": 40,
   "metadata": {},
   "outputs": [
    {
     "name": "stdout",
     "output_type": "stream",
     "text": [
      "What is your balance? 5000\n",
      "What is the APR on the card (as a percent)? 12\n",
      "What is the monthly payment you can make? 100\n",
      "It will take you 70 months to pay off this card.\n"
     ]
    }
   ],
   "source": [
    "import math\n",
    "balance = int(input(\"What is your balance? \"))\n",
    "rate = int(input(\"What is the APR on the card (as a percent)? \")) * 0.01/365 \n",
    "payment = int(input(\"What is the monthly payment you can make? \"))\n",
    "\n",
    "def calculateMonthsUntilPaidOff(balance, rate, payment):\n",
    "    upper = math.log(1 + ((balance / payment) * (1 - ((1 + rate) ** 30))))\n",
    "    down = math.log(1 + rate)\n",
    "    numbersOfMonths = (-1 / 30) * upper / down\n",
    "    return math.ceil(numbersOfMonths)\n",
    "\n",
    "print(\"It will take you {0} months to pay off this card.\".format(calculateMonthsUntilPaidOff(balance, rate, payment)))"
   ]
  },
  {
   "cell_type": "code",
   "execution_count": null,
   "metadata": {
    "collapsed": true
   },
   "outputs": [],
   "source": []
  }
 ],
 "metadata": {
  "kernelspec": {
   "display_name": "Python 3",
   "language": "python",
   "name": "python3"
  },
  "language_info": {
   "codemirror_mode": {
    "name": "ipython",
    "version": 3
   },
   "file_extension": ".py",
   "mimetype": "text/x-python",
   "name": "python",
   "nbconvert_exporter": "python",
   "pygments_lexer": "ipython3",
   "version": "3.6.1"
  }
 },
 "nbformat": 4,
 "nbformat_minor": 2
}
