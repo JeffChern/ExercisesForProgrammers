{
 "cells": [
  {
   "cell_type": "code",
   "execution_count": 25,
   "metadata": {},
   "outputs": [
    {
     "name": "stdout",
     "output_type": "stream",
     "text": [
      "Enter two strings and I'll tell you if they are anagrams: \n",
      "Enter the first string: Note\n",
      "Enter the second string: Tone\n",
      "note and tone are anagrams.\n"
     ]
    }
   ],
   "source": [
    "s = input(\"Enter two strings and I'll tell you if they are anagrams: \\nEnter the first string: \").lower()\n",
    "t = input(\"Enter the second string: \").lower()\n",
    "def isAnagram(s1, s2):\n",
    "    s1 = sorted(s1)\n",
    "    s2 = sorted(s2)\n",
    "    if s1 == s2:\n",
    "        print(\"{0} and {1} are anagrams.\".format(s, t))\n",
    "    else:\n",
    "        print(\"{0} and {1} are not anagrams.\".format(s, t))\n",
    "    \n",
    "isAnagram(s, t)\n",
    "\n"
   ]
  },
  {
   "cell_type": "code",
   "execution_count": null,
   "metadata": {
    "collapsed": true
   },
   "outputs": [],
   "source": []
  }
 ],
 "metadata": {
  "kernelspec": {
   "display_name": "Python 3",
   "language": "python",
   "name": "python3"
  },
  "language_info": {
   "codemirror_mode": {
    "name": "ipython",
    "version": 3
   },
   "file_extension": ".py",
   "mimetype": "text/x-python",
   "name": "python",
   "nbconvert_exporter": "python",
   "pygments_lexer": "ipython3",
   "version": "3.6.1"
  }
 },
 "nbformat": 4,
 "nbformat_minor": 2
}
