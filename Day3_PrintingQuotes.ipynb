{
 "cells": [
  {
   "cell_type": "code",
   "execution_count": 10,
   "metadata": {},
   "outputs": [
    {
     "name": "stdout",
     "output_type": "stream",
     "text": [
      "What is the quote? These aren't the droids you're looking for.\n",
      "Who said it? Obi-Wan Kenobi\n",
      "Obi-Wan Kenobi says, \"These aren't the droids you're looking for.\"\n"
     ]
    }
   ],
   "source": [
    "quote = input(\"What is the quote? \")\n",
    "person = input(\"Who said it? \")\n",
    "print(person + \" says, \\\"\" + quote + \"\\\"\")"
   ]
  },
  {
   "cell_type": "code",
   "execution_count": null,
   "metadata": {
    "collapsed": true
   },
   "outputs": [],
   "source": []
  }
 ],
 "metadata": {
  "kernelspec": {
   "display_name": "Python 3",
   "language": "python",
   "name": "python3"
  }
 },
 "nbformat": 4,
 "nbformat_minor": 2
}
