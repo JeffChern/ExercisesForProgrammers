{
 "cells": [
  {
   "cell_type": "code",
   "execution_count": 80,
   "metadata": {},
   "outputs": [
    {
     "name": "stdout",
     "output_type": "stream",
     "text": [
      "0\n",
      "Sorry. That's not a valid input.\n",
      "ABC\n",
      "Sorry. That's not a valid input.\n",
      "4\n",
      "It will take 18 years to double your initial investment.\n"
     ]
    }
   ],
   "source": [
    "ask = True\n",
    "while ask:\n",
    "    number = input()\n",
    "    if number.isnumeric():\n",
    "        number = int(number)\n",
    "        if number == 0:\n",
    "            print(\"Sorry. That's not a valid input.\")\n",
    "        else:\n",
    "            print(\"It will take {0} years to double your initial investment.\".format(int(72 / number)))\n",
    "            ask = False\n",
    "    else:\n",
    "        print(\"Sorry. That's not a valid input.\")\n",
    "        "
   ]
  }
 ],
 "metadata": {
  "kernelspec": {
   "display_name": "Python 3",
   "language": "python",
   "name": "python3"
  },
  "language_info": {
   "codemirror_mode": {
    "name": "ipython",
    "version": 3
   },
   "file_extension": ".py",
   "mimetype": "text/x-python",
   "name": "python",
   "nbconvert_exporter": "python",
   "pygments_lexer": "ipython3",
   "version": "3.6.1"
  }
 },
 "nbformat": 4,
 "nbformat_minor": 2
}
