{
 "cells": [
  {
   "cell_type": "code",
   "execution_count": 2,
   "metadata": {},
   "outputs": [
    {
     "name": "stdout",
     "output_type": "stream",
     "text": [
      "Let's play Guess the Number.\n",
      "Pick a difficulty level (1, 2, or 3):1\n",
      "I have my number. What's your guess? 5\n",
      "Too low. Guess again:7\n",
      "Too low. Guess again:8\n",
      "Too low. Guess again:9\n",
      "Too low. Guess again:10\n",
      "You got it in 5 guesses!\n",
      "Play again? n\n",
      "Goodbye!\n"
     ]
    }
   ],
   "source": [
    "import random\n",
    "\n",
    "def GuessFunction():\n",
    "    guessTimes = 1 \n",
    "    playMode = True\n",
    "    print(\"Let's play Guess the Number.\")\n",
    "    try:\n",
    "        level = int(input(\"Pick a difficulty level (1, 2, or 3):\" ))\n",
    "        targetNumber = random.randint(1, 10 ** level)\n",
    "        guessNumber = int(input(\"I have my number. What's your guess? \"))\n",
    "        while playMode == True:\n",
    "            try:\n",
    "                if guessNumber > targetNumber:\n",
    "                        guessNumber = int(input(\"Too high. Guess again:\"))\n",
    "                        guessTimes +=1\n",
    "                elif guessNumber < targetNumber:\n",
    "                        guessNumber = int(input(\"Too low. Guess again:\")) \n",
    "                        guessTimes +=1\n",
    "                elif guessNumber == targetNumber:\n",
    "                        print(\"You got it in {0} guesses!\".format(guessTimes))\n",
    "                        playMode = False\n",
    "                        again = input(\"Play again? \").lower()\n",
    "                        if again == 'y' or again == 'yes':\n",
    "                            GuessFunction()  \n",
    "                        elif again == 'n' or again == 'no':\n",
    "                            print(\"Goodbye!\")\n",
    "                        else:\n",
    "                            print(\"No non-numeric data please\")  \n",
    "            except:\n",
    "                print(\"Wrong guess!\")\n",
    "                playMode = False\n",
    "    except:\n",
    "        print(\"No non-numeric data please\")\n",
    "        GuessFunction()  \n",
    "        \n",
    "GuessFunction()     \n",
    "        \n",
    "    "
   ]
  },
  {
   "cell_type": "code",
   "execution_count": null,
   "metadata": {
    "collapsed": true
   },
   "outputs": [],
   "source": []
  }
 ],
 "metadata": {
  "kernelspec": {
   "display_name": "Python 3",
   "language": "python",
   "name": "python3"
  },
  "language_info": {
   "codemirror_mode": {
    "name": "ipython",
    "version": 3
   },
   "file_extension": ".py",
   "mimetype": "text/x-python",
   "name": "python",
   "nbconvert_exporter": "python",
   "pygments_lexer": "ipython3",
   "version": "3.6.1"
  }
 },
 "nbformat": 4,
 "nbformat_minor": 2
}
