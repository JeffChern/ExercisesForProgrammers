{
 "cells": [
  {
   "cell_type": "code",
   "execution_count": 18,
   "metadata": {},
   "outputs": [
    {
     "name": "stdout",
     "output_type": "stream",
     "text": [
      "Please enter the number of the month: 2\n",
      "The name of the month is February.\n"
     ]
    }
   ],
   "source": [
    "number = input(\"Please enter the number of the month: \")    \n",
    "month = {'1':'January', \n",
    "         '2':'February', \n",
    "         '3':'March',\n",
    "         '4':'April',\n",
    "         '5':'May', \n",
    "         '6':'June',\n",
    "         '7':'July',\n",
    "         '8':'August',\n",
    "         '9':'September',\n",
    "         '10':'October',\n",
    "         '11':'November',\n",
    "         '12':'December'}\n",
    "result = month.get(number, 'Please enter 1 - 12')\n",
    "print(\"The name of the month is {0}.\".format(result))"
   ]
  },
  {
   "cell_type": "code",
   "execution_count": null,
   "metadata": {
    "collapsed": true
   },
   "outputs": [],
   "source": []
  }
 ],
 "metadata": {
  "kernelspec": {
   "display_name": "Python 3",
   "language": "python",
   "name": "python3"
  },
  "language_info": {
   "codemirror_mode": {
    "name": "ipython",
    "version": 3
   },
   "file_extension": ".py",
   "mimetype": "text/x-python",
   "name": "python",
   "nbconvert_exporter": "python",
   "pygments_lexer": "ipython3",
   "version": "3.6.1"
  }
 },
 "nbformat": 4,
 "nbformat_minor": 2
}
