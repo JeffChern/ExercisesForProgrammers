{
 "cells": [
  {
   "cell_type": "code",
   "execution_count": 5,
   "metadata": {},
   "outputs": [
    {
     "name": "stdout",
     "output_type": "stream",
     "text": [
      "Enter the name of a movie: Dunkirk\n",
      "Title: Dunkirk\n",
      "Release_date: 2017-07-19\n",
      "Vote_average: 7.5\n",
      "Original_language: en\n",
      "Overview: The miraculous evacuation of Allied soldiers from Belgium, Britain, Canada and France, who were cut off and surrounded by the German army from the beaches and harbor of Dunkirk, France, between May 26th and June 4th 1940, during the Battle of France in World War II.\n",
      "\n",
      "\n",
      "Title: Dunkirk\n",
      "Release_date: 1958-03-20\n",
      "Vote_average: 6.6\n",
      "Original_language: en\n",
      "Overview: A British Corporal in France finds himself responsible for the lives of his men when their officer is killed. He has to get them back to Britain somehow. Meanwhile, British civilians are being dragged into the war with Operation Dynamo, the scheme to get the French and British forces back from the Dunkirk beaches. Some come forward to help, others were less willing.\n",
      "\n",
      "\n",
      "Title: Operation Dunkirk\n",
      "Release_date: 2017-07-04\n",
      "Vote_average: 3.4\n",
      "Original_language: en\n",
      "Overview: A band of soldiers tasked with staying behind during the Battle of Dunkirk to rescue a scientist with information that could turn the tide of the war must battle their way through dangerous Nazi territory to complete their mission.\n",
      "\n",
      "\n",
      "Title: Dunkirk\n",
      "Release_date: 2004-02-18\n",
      "Vote_average: 5.8\n",
      "Original_language: en\n",
      "Overview: Dunkirk is a 2004 BBC television docudrama about the Battle of Dunkirk and the Dunkirk evacuation in World War II.\n",
      "\n",
      "\n",
      "Title: Weekend at Dunkirk\n",
      "Release_date: 1964-12-18\n",
      "Vote_average: 6.4\n",
      "Original_language: fr\n",
      "Overview: In June 1940, during the Dunkirk evacuation of Allied troops to England, French sergeant Julien Maillat and his men debate whether to evacuate to Britain or stay and fight the German troops that are closing-in from all directions. - from IMDB\n",
      "\n",
      "\n"
     ]
    }
   ],
   "source": [
    "import requests\n",
    "\n",
    "movieName = input(\"Enter the name of a movie: \")\n",
    "api_key = \"------\"\n",
    "url = \"https://api.themoviedb.org/3/search/movie?api_key=\" + api_key + \"&query=\" + movieName\n",
    "r = requests.get(url)\n",
    "data = r.json()\n",
    "for i in data['results']:\n",
    "    print(\"Title: {0}\".format(i['title']))\n",
    "    print(\"Release_date: {0}\".format(i['release_date']))\n",
    "    print(\"Vote_average: {0}\".format(i['vote_average']))\n",
    "    print(\"Original_language: {0}\".format(i['original_language']))\n",
    "    print(\"Overview: {0}\".format(i['overview']))\n",
    "    print('\\n')\n",
    "    \n",
    "    "
   ]
  },
  {
   "cell_type": "code",
   "execution_count": null,
   "metadata": {
    "collapsed": true
   },
   "outputs": [],
   "source": []
  }
 ],
 "metadata": {
  "kernelspec": {
   "display_name": "Python 3",
   "language": "python",
   "name": "python3"
  },
  "language_info": {
   "codemirror_mode": {
    "name": "ipython",
    "version": 3
   },
   "file_extension": ".py",
   "mimetype": "text/x-python",
   "name": "python",
   "nbconvert_exporter": "python",
   "pygments_lexer": "ipython3",
   "version": "3.6.1"
  }
 },
 "nbformat": 4,
 "nbformat_minor": 2
}
