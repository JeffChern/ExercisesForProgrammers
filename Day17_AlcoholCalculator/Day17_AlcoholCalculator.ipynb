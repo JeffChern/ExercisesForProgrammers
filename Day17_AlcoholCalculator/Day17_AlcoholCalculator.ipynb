{
 "cells": [
  {
   "cell_type": "code",
   "execution_count": 2,
   "metadata": {},
   "outputs": [
    {
     "name": "stdout",
     "output_type": "stream",
     "text": [
      "Your weight, in pounds200\n",
      "Your gender, male or femalemale\n",
      "Total alcohol consumed, in ounces (oz).100\n",
      "The amount of time since your last drink, in hours1\n",
      "It is not legal for you to drive.\n"
     ]
    }
   ],
   "source": [
    "weight = int(input(\"Your weight, in pounds\"))\n",
    "gender = input(\"Your gender, male or female\")\n",
    "drinks = int(input(\"Total alcohol consumed, in ounces (oz).\"))\n",
    "hours = int(input(\"The amount of time since your last drink, in hours\"))\n",
    "r = 0.73 if gender == 'male' else 0.66\n",
    "\n",
    "bac = (drinks * 5.14 / weight * r) - 0.15 * hours\n",
    "\n",
    "if bac >= 0.08:\n",
    "    print(\"It is not legal for you to drive.\")\n",
    "else:\n",
    "    print(\"It is legal for you to drive.\")\n",
    "\n",
    "\n"
   ]
  },
  {
   "cell_type": "code",
   "execution_count": null,
   "metadata": {
    "collapsed": true
   },
   "outputs": [],
   "source": []
  }
 ],
 "metadata": {
  "kernelspec": {
   "display_name": "Python 3",
   "language": "python",
   "name": "python3"
  },
  "language_info": {
   "codemirror_mode": {
    "name": "ipython",
    "version": 3
   },
   "file_extension": ".py",
   "mimetype": "text/x-python",
   "name": "python",
   "nbconvert_exporter": "python",
   "pygments_lexer": "ipython3",
   "version": "3.6.1"
  }
 },
 "nbformat": 4,
 "nbformat_minor": 2
}
