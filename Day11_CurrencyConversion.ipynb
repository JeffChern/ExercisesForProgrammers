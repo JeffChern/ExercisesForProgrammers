{
 "cells": [
  {
   "cell_type": "code",
   "execution_count": 17,
   "metadata": {
    "scrolled": true
   },
   "outputs": [
    {
     "name": "stdout",
     "output_type": "stream",
     "text": [
      "How many euros are you exchanging? 81\n",
      "What is the exchange rate? 137.51\n",
      "81 euros at an exchange rate of 137.51 is 111.38 U.S. dollars.\n"
     ]
    }
   ],
   "source": [
    "amountTo = int(input(\"How many euros are you exchanging? \")) \n",
    "rateTo =float(input(\"What is the exchange rate? \"))\n",
    "euros = amountTo * rateTo / 100\n",
    "print(\"{0} euros at an exchange rate of {1} is {2} U.S. dollars.\".format(amountTo, rateTo, \"%.2f\" %euros))"
   ]
  },
  {
   "cell_type": "code",
   "execution_count": null,
   "metadata": {
    "collapsed": true
   },
   "outputs": [],
   "source": []
  }
 ],
 "metadata": {
  "kernelspec": {
   "display_name": "Python 3",
   "language": "python",
   "name": "python3"
  },
  "language_info": {
   "codemirror_mode": {
    "name": "ipython",
    "version": 3
   },
   "file_extension": ".py",
   "mimetype": "text/x-python",
   "name": "python",
   "nbconvert_exporter": "python",
   "pygments_lexer": "ipython3",
   "version": "3.6.1"
  }
 },
 "nbformat": 4,
 "nbformat_minor": 2
}
