{
 "cells": [
  {
   "cell_type": "code",
   "execution_count": 185,
   "metadata": {},
   "outputs": [
    {
     "name": "stdout",
     "output_type": "stream",
     "text": [
      "There are 6 people in space right now: \n",
      "Peggy Whitson      ISS\n",
      "Fyodor Yurchikhin      ISS\n",
      "Jack Fischer      ISS\n",
      "Sergey Ryazanskiy      ISS\n",
      "Randy Bresnik      ISS\n",
      "Paolo Nespoli      ISS\n"
     ]
    }
   ],
   "source": [
    "import json, requests\n",
    "from tabulate import tabulate\n",
    "url = \"http://api.open-notify.org/astros.json\"\n",
    "r = requests.get(url)\n",
    "data = r.json()\n",
    "print(\"There are {0} people in space right now: \".format(data['number']))\n",
    "\n",
    "for i in data['people']:\n",
    "    print(i['name'] + ' '*6 + i['craft'])\n",
    "\n",
    "\n"
   ]
  }
 ],
 "metadata": {
  "kernelspec": {
   "display_name": "Python 3",
   "language": "python",
   "name": "python3"
  },
  "language_info": {
   "codemirror_mode": {
    "name": "ipython",
    "version": 3
   },
   "file_extension": ".py",
   "mimetype": "text/x-python",
   "name": "python",
   "nbconvert_exporter": "python",
   "pygments_lexer": "ipython3",
   "version": "3.6.1"
  }
 },
 "nbformat": 4,
 "nbformat_minor": 2
}
