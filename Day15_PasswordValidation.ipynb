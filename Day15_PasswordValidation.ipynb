{
 "cells": [
  {
   "cell_type": "code",
   "execution_count": 1,
   "metadata": {
    "scrolled": true
   },
   "outputs": [
    {
     "name": "stdout",
     "output_type": "stream",
     "text": [
      "What is the password? ABc\n",
      "I don't know you.\n"
     ]
    }
   ],
   "source": [
    "passwordKey = {'12345', 'abc$123','5678', 'Abc'}\n",
    "answer = False\n",
    "password = input(\"What is the password? \")\n",
    "for i in passwordKey:\n",
    "    if password == i:\n",
    "        answer = True\n",
    "if answer == True:\n",
    "    print(\"Welcome!\")\n",
    "else:\n",
    "    print(\"I don't know you.\")"
   ]
  },
  {
   "cell_type": "code",
   "execution_count": 2,
   "metadata": {},
   "outputs": [
    {
     "name": "stdout",
     "output_type": "stream",
     "text": [
      "What is the password? Abc\n",
      "Welcome!\n"
     ]
    }
   ],
   "source": [
    "passwordKey = {'12345', 'abc$123','5678', 'Abc'}\n",
    "answer = False\n",
    "password = input(\"What is the password? \")\n",
    "for i in passwordKey:\n",
    "    if password == i:\n",
    "        answer = True\n",
    "if answer == True:\n",
    "    print(\"Welcome!\")\n",
    "else:\n",
    "    print(\"I don't know you.\")"
   ]
  },
  {
   "cell_type": "code",
   "execution_count": null,
   "metadata": {
    "collapsed": true
   },
   "outputs": [],
   "source": []
  }
 ],
 "metadata": {
  "kernelspec": {
   "display_name": "Python 3",
   "language": "python",
   "name": "python3"
  },
  "language_info": {
   "codemirror_mode": {
    "name": "ipython",
    "version": 3
   },
   "file_extension": ".py",
   "mimetype": "text/x-python",
   "name": "python",
   "nbconvert_exporter": "python",
   "pygments_lexer": "ipython3",
   "version": "3.6.1"
  }
 },
 "nbformat": 4,
 "nbformat_minor": 2
}
