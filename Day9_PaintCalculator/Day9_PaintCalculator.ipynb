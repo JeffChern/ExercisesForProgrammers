{
 "cells": [
  {
   "cell_type": "code",
   "execution_count": 2,
   "metadata": {},
   "outputs": [
    {
     "name": "stdout",
     "output_type": "stream",
     "text": [
      "What is the length of the room in feet? 36\n",
      "What is the width of the room in feet? 10\n",
      "You will need to purchase 2 gallons of paint to cover 360 square feet.\n"
     ]
    }
   ],
   "source": [
    "import math\n",
    "length = int(input(\"What is the length of the room in feet? \"))\n",
    "width = int(input(\"What is the width of the room in feet? \"))\n",
    "squareFeet = length * width\n",
    "total = math.ceil(squareFeet / 350)\n",
    "print(\"You will need to purchase {0} gallons of paint to cover {1} square feet.\".format(total, squareFeet))"
   ]
  },
  {
   "cell_type": "code",
   "execution_count": null,
   "metadata": {
    "collapsed": true
   },
   "outputs": [],
   "source": []
  }
 ],
 "metadata": {
  "kernelspec": {
   "display_name": "Python 3",
   "language": "python",
   "name": "python3"
  },
  "language_info": {
   "codemirror_mode": {
    "name": "ipython",
    "version": 3
   },
   "file_extension": ".py",
   "mimetype": "text/x-python",
   "name": "python",
   "nbconvert_exporter": "python",
   "pygments_lexer": "ipython3",
   "version": "3.6.1"
  }
 },
 "nbformat": 4,
 "nbformat_minor": 2
}
