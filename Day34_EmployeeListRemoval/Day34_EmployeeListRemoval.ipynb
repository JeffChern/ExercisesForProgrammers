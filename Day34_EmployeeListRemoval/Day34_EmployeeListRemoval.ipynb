{
 "cells": [
  {
   "cell_type": "code",
   "execution_count": 9,
   "metadata": {},
   "outputs": [
    {
     "name": "stdout",
     "output_type": "stream",
     "text": [
      "There are 5 employess:\n",
      "John Smith\n",
      "Jackie Jackson\n",
      "Chris Jones\n",
      "Amanda Cullen\n",
      "Jeremy Goodwin\n",
      "Enter an employee name to remove:Chris Jones\n",
      "There are 4 employess:\n",
      "John Smith\n",
      "Jackie Jackson\n",
      "Amanda Cullen\n",
      "Jeremy Goodwin\n"
     ]
    }
   ],
   "source": [
    "employeesList = ['John Smith',\n",
    "                 'Jackie Jackson', \n",
    "                 'Chris Jones', \n",
    "                 'Amanda Cullen', \n",
    "                 'Jeremy Goodwin']\n",
    "print(\"There are {0} employess:\".format(len(employeesList)))\n",
    "for i in employeesList:\n",
    "    print(i)\n",
    "deleteName = input(\"Enter an employee name to remove:\")\n",
    "employeesList.remove(deleteName)\n",
    "print(\"There are {0} employess:\".format(len(employeesList)))\n",
    "for i in employeesList:\n",
    "    print(i)"
   ]
  }
 ],
 "metadata": {
  "kernelspec": {
   "display_name": "Python 3",
   "language": "python",
   "name": "python3"
  },
  "language_info": {
   "codemirror_mode": {
    "name": "ipython",
    "version": 3
   },
   "file_extension": ".py",
   "mimetype": "text/x-python",
   "name": "python",
   "nbconvert_exporter": "python",
   "pygments_lexer": "ipython3",
   "version": "3.6.1"
  }
 },
 "nbformat": 4,
 "nbformat_minor": 2
}
