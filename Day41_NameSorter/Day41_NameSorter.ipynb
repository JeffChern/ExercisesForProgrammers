{
 "cells": [
  {
   "cell_type": "code",
   "execution_count": 4,
   "metadata": {},
   "outputs": [
    {
     "name": "stdout",
     "output_type": "stream",
     "text": [
      "Total of 7 names\n",
      "------------------\n",
      "Johnson, Jim\n",
      "Jones, Aaron\n",
      "Jones, Chris\n",
      "Ling, Mai\n",
      "Swift, Geoffrey\n",
      "Xiong, Fong\n",
      "Zarnecki, Sabrina\n"
     ]
    }
   ],
   "source": [
    "file = open(\"ListOfNames.txt\", \"r\")\n",
    "def readAndSort(file):\n",
    "    count = 0\n",
    "    nameList = []\n",
    "    for line in file:\n",
    "        nameList.append(line.strip())\n",
    "        count += 1 \n",
    "    print(\"Total of {0} names\".format(count))\n",
    "    print('-'*18)\n",
    "    nameList.sort()\n",
    "    for i in nameList:\n",
    "        print(i)\n",
    "    \n",
    "readAndSort(file)     \n",
    "    \n",
    "    \n",
    "file.close()"
   ]
  },
  {
   "cell_type": "code",
   "execution_count": null,
   "metadata": {
    "collapsed": true
   },
   "outputs": [],
   "source": []
  },
  {
   "cell_type": "code",
   "execution_count": null,
   "metadata": {
    "collapsed": true
   },
   "outputs": [],
   "source": []
  },
  {
   "cell_type": "code",
   "execution_count": null,
   "metadata": {
    "collapsed": true
   },
   "outputs": [],
   "source": []
  }
 ],
 "metadata": {
  "kernelspec": {
   "display_name": "Python 3",
   "language": "python",
   "name": "python3"
  },
  "language_info": {
   "codemirror_mode": {
    "name": "ipython",
    "version": 3
   },
   "file_extension": ".py",
   "mimetype": "text/x-python",
   "name": "python",
   "nbconvert_exporter": "python",
   "pygments_lexer": "ipython3",
   "version": "3.6.1"
  }
 },
 "nbformat": 4,
 "nbformat_minor": 2
}
