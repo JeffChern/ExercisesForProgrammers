{
 "cells": [
  {
   "cell_type": "code",
   "execution_count": 90,
   "metadata": {},
   "outputs": [
    {
     "name": "stdout",
     "output_type": "stream",
     "text": [
      "Enter a number:100\n",
      "Enter a number:200\n",
      "Enter a number:300\n",
      "Enter a number:1000\n",
      "Enter a number:done\n",
      "Numbers: [100, 200, 300, 1000]\n",
      "The average is 400.\n",
      "The minimum is 100.\n",
      "The maximum is 1000.\n",
      "The standard deviation is 353.\n"
     ]
    }
   ],
   "source": [
    "import math\n",
    "from math import sqrt\n",
    "numberList = []\n",
    "number = 0\n",
    "string = []\n",
    "sumlist = []\n",
    "while number != 'done':\n",
    "    number = input(\"Enter a number:\")\n",
    "    if number.isdigit():\n",
    "        number = int(number)\n",
    "        numberList.append(number)      \n",
    "def StandardDeviation(sumlist):\n",
    "    sumValue = int(sum(sumlist)/len(sumlist))\n",
    "    total = 0\n",
    "    for i in sumlist:\n",
    "        total += (i - sumValue) ** 2\n",
    "    total /= len(sumlist)\n",
    "    return int(math.sqrt(total))\n",
    "    \n",
    "sd = StandardDeviation(numberList)\n",
    "\n",
    "print(\"Numbers: {0}\".format(numberList))\n",
    "print(\"The average is {0}.\".format(int(sum(numberList)/len(numberList))))\n",
    "print(\"The minimum is {0}.\".format(int(min(numberList))))\n",
    "print(\"The maximum is {0}.\".format(int(max(numberList))))\n",
    "print(\"The standard deviation is {0}.\".format(sd))"
   ]
  },
  {
   "cell_type": "code",
   "execution_count": null,
   "metadata": {
    "collapsed": true
   },
   "outputs": [],
   "source": []
  },
  {
   "cell_type": "code",
   "execution_count": null,
   "metadata": {
    "collapsed": true
   },
   "outputs": [],
   "source": []
  },
  {
   "cell_type": "code",
   "execution_count": null,
   "metadata": {
    "collapsed": true
   },
   "outputs": [],
   "source": []
  },
  {
   "cell_type": "code",
   "execution_count": null,
   "metadata": {
    "collapsed": true
   },
   "outputs": [],
   "source": []
  }
 ],
 "metadata": {
  "kernelspec": {
   "display_name": "Python 3",
   "language": "python",
   "name": "python3"
  },
  "language_info": {
   "codemirror_mode": {
    "name": "ipython",
    "version": 3
   },
   "file_extension": ".py",
   "mimetype": "text/x-python",
   "name": "python",
   "nbconvert_exporter": "python",
   "pygments_lexer": "ipython3",
   "version": "3.6.1"
  }
 },
 "nbformat": 4,
 "nbformat_minor": 2
}
