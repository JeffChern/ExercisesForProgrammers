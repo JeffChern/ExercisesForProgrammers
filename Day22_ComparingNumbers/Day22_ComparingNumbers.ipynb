{
 "cells": [
  {
   "cell_type": "code",
   "execution_count": 1,
   "metadata": {},
   "outputs": [
    {
     "name": "stdout",
     "output_type": "stream",
     "text": [
      "First number: 1\n",
      "Second number: 51\n",
      "Third number: 2\n",
      "The largest number is 51.\n"
     ]
    }
   ],
   "source": [
    "first = int(input(\"First number: \"))\n",
    "second = int(input(\"Second number: \"))\n",
    "third = int(input(\"Third number: \"))\n",
    "if first == second or second == third or first == third:\n",
    "    print(\"Please enter different numbers\")\n",
    "else:\n",
    "    if first > second:\n",
    "        largest = first\n",
    "        if third > first:\n",
    "            largest = third\n",
    "        elif third < first:\n",
    "            largest = first    \n",
    "    if second > first:\n",
    "        largest = second\n",
    "        if third > second:\n",
    "            largest = third\n",
    "        elif third < second:\n",
    "            largest = second\n",
    "print(\"The largest number is {0}.\".format(largest))"
   ]
  },
  {
   "cell_type": "code",
   "execution_count": null,
   "metadata": {
    "collapsed": true
   },
   "outputs": [],
   "source": []
  }
 ],
 "metadata": {
  "kernelspec": {
   "display_name": "Python 3",
   "language": "python",
   "name": "python3"
  },
  "language_info": {
   "codemirror_mode": {
    "name": "ipython",
    "version": 3
   },
   "file_extension": ".py",
   "mimetype": "text/x-python",
   "name": "python",
   "nbconvert_exporter": "python",
   "pygments_lexer": "ipython3",
   "version": "3.6.1"
  }
 },
 "nbformat": 4,
 "nbformat_minor": 2
}
