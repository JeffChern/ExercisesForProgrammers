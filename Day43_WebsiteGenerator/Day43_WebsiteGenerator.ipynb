{
 "cells": [
  {
   "cell_type": "code",
   "execution_count": 48,
   "metadata": {},
   "outputs": [
    {
     "name": "stdout",
     "output_type": "stream",
     "text": [
      "Site name: awesomeco\n",
      "Author: Max Power\n",
      "Do you want a folder for JavaScript? y\n",
      "Do you want a folder for CSS? y\n",
      "Created ./awesomeco\n",
      "Created ./awesomeco/index.html\n",
      "Created ./awesomeco/js/\n",
      "Created ./awesomeco/css/\n"
     ]
    }
   ],
   "source": [
    "import os\n",
    "\n",
    "siteName = input(\"Site name: \")\n",
    "author = input(\"Author: \")\n",
    "jsCommend = input(\"Do you want a folder for JavaScript? \").lower()\n",
    "cssCommend = input(\"Do you want a folder for CSS? \").lower()\n",
    "path = \"/Users/jeff/Developing/ExercisesForProgrammers/\" + siteName\n",
    "\n",
    "\n",
    "def pathFolderGenerator(path, name):\n",
    "    #Create a path folder.\n",
    "    try:\n",
    "        os.mkdir(path)\n",
    "        print(\"Created ./\" + siteName)\n",
    "        os.chdir(path)\n",
    "    except:\n",
    "        print(\"FILE EXISTS!\")\n",
    "def htmlFileGenerator(author, name, path):\n",
    "    # Create a html file. \n",
    "    try:\n",
    "        if not os.path.exists(path + '/index.html'):\n",
    "            print(\"Created ./\" + name +\"/index.html\")\n",
    "            file = open(path + '/index.html', 'w')\n",
    "            file.write('<title>' + name + '</title>')\n",
    "            file.write('<meta>' + author + '</meta>')\n",
    "            file.close()\n",
    "        else:\n",
    "            print(\"FILE EXISTS!\")\n",
    "    except:\n",
    "        print(\"FILE EXISTS!\")\n",
    "def jsFolderGenerator(commend, name, path):\n",
    "    # Create JS folder.\n",
    "    try:\n",
    "        if commend == 'yes' or commend == 'y':\n",
    "            os.mkdir(path + '/js')\n",
    "            print(\"Created ./\" + name +\"/js/\")\n",
    "\n",
    "    except:\n",
    "        print(\"FILE EXISTS!\")\n",
    "def cssGenerator(commend, name, path):\n",
    "    # Create CSS folder.\n",
    "    try:\n",
    "        if commend == 'yes' or commend == 'y':\n",
    "            os.mkdir(path + '/css')\n",
    "            print(\"Created ./\" + name +\"/css/\")\n",
    "    except:\n",
    "        print(\"FILE EXISTS!\")\n",
    "pathFolderGenerator(path, siteName)\n",
    "htmlFileGenerator(author, siteName, path)\n",
    "jsFolderGenerator(jsCommend, siteName, path)\n",
    "cssGenerator(cssCommend, siteName, path)\n",
    "    "
   ]
  }
 ],
 "metadata": {
  "kernelspec": {
   "display_name": "Python 3",
   "language": "python",
   "name": "python3"
  },
  "language_info": {
   "codemirror_mode": {
    "name": "ipython",
    "version": 3
   },
   "file_extension": ".py",
   "mimetype": "text/x-python",
   "name": "python",
   "nbconvert_exporter": "python",
   "pygments_lexer": "ipython3",
   "version": "3.6.1"
  }
 },
 "nbformat": 4,
 "nbformat_minor": 2
}
