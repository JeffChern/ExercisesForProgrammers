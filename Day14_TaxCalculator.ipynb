{
 "cells": [
  {
   "cell_type": "code",
   "execution_count": 1,
   "metadata": {},
   "outputs": [
    {
     "name": "stdout",
     "output_type": "stream",
     "text": [
      "What is the order amount? 10\n",
      "What is the state? WI\n",
      "The subtotal is $10.00. \n",
      "The tax is $0.55. \n",
      "The total is $10.55.\n"
     ]
    }
   ],
   "source": [
    "amount = float(input(\"What is the order amount? \"))\n",
    "state = input(\"What is the state? \").lower()\n",
    "total = amount\n",
    "tax = 0.055\n",
    "if state != 'wi' and state != 'wisconsin':\n",
    "    print(\"The total is ${0}\".format('%.2f' %total))    \n",
    "if state == 'wi' or state == 'wisconsin':\n",
    "    tax *= amount\n",
    "    amount += tax\n",
    "    print(\"The subtotal is ${0}. \\nThe tax is ${1}. \\nThe total is ${2}.\".format('%.2f' %total, tax, amount))"
   ]
  },
  {
   "cell_type": "code",
   "execution_count": 2,
   "metadata": {},
   "outputs": [
    {
     "name": "stdout",
     "output_type": "stream",
     "text": [
      "What is the order amount? 10\n",
      "What is the state? CA\n",
      "The total is $10.00\n"
     ]
    }
   ],
   "source": [
    "amount = float(input(\"What is the order amount? \"))\n",
    "state = input(\"What is the state? \").lower()\n",
    "total = amount\n",
    "tax = 0.055\n",
    "if state != 'wi' and state != 'wisconsin':\n",
    "    print(\"The total is ${0}\".format('%.2f' %total))    \n",
    "if state == 'wi' or state == 'wisconsin':\n",
    "    tax *= amount\n",
    "    amount += tax\n",
    "    print(\"The subtotal is ${0}. \\nThe tax is ${1}. \\nThe total is ${2}.\".format('%.2f' %total, tax, amount))\n",
    "\n"
   ]
  },
  {
   "cell_type": "code",
   "execution_count": null,
   "metadata": {
    "collapsed": true
   },
   "outputs": [],
   "source": []
  }
 ],
 "metadata": {
  "kernelspec": {
   "display_name": "Python 3",
   "language": "python",
   "name": "python3"
  },
  "language_info": {
   "codemirror_mode": {
    "name": "ipython",
    "version": 3
   },
   "file_extension": ".py",
   "mimetype": "text/x-python",
   "name": "python",
   "nbconvert_exporter": "python",
   "pygments_lexer": "ipython3",
   "version": "3.6.1"
  }
 },
 "nbformat": 4,
 "nbformat_minor": 2
}
