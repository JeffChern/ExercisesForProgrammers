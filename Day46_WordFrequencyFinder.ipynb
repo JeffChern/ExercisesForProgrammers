{
 "cells": [
  {
   "cell_type": "code",
   "execution_count": 113,
   "metadata": {},
   "outputs": [
    {
     "name": "stdout",
     "output_type": "stream",
     "text": [
      "badger: *******\n",
      "mushroom: **\n",
      "snake: *\n"
     ]
    }
   ],
   "source": [
    "store = []\n",
    "Set_tuples = []\n",
    "with open(\"words.txt\", \"r\") as file:\n",
    "    for i in file:\n",
    "        store += i.split()\n",
    "mySet = set(store)\n",
    "for i in mySet:\n",
    "    Set_tuples += [(i, store.count(i))]\n",
    "Set_tuples.sort()\n",
    "for i in range(len(mySet)):\n",
    "    print(Set_tuples[i][0] + \":\", Set_tuples[i][1] * '*')"
   ]
  }
 ],
 "metadata": {
  "kernelspec": {
   "display_name": "Python 3",
   "language": "python",
   "name": "python3"
  },
  "language_info": {
   "codemirror_mode": {
    "name": "ipython",
    "version": 3
   },
   "file_extension": ".py",
   "mimetype": "text/x-python",
   "name": "python",
   "nbconvert_exporter": "python",
   "pygments_lexer": "ipython3",
   "version": "3.6.1"
  }
 },
 "nbformat": 4,
 "nbformat_minor": 2
}
