{
 "cells": [
  {
   "cell_type": "code",
   "execution_count": 3,
   "metadata": {},
   "outputs": [
    {
     "name": "stdout",
     "output_type": "stream",
     "text": [
      "london\n",
      "gb\n",
      "I found 1 data\n",
      "55 degrees Fahrenheit\n"
     ]
    }
   ],
   "source": [
    "import json\n",
    "import requests\n",
    "\n",
    "file = open(\"city.list.json\", \"r\")\n",
    "cityList = json.load(file)\n",
    "city = input().lower()\n",
    "state = input().lower()\n",
    "idList = []\n",
    "for i in cityList:\n",
    "    if city == i['name'].lower() and state == i['country'].lower():\n",
    "        idList.append(i['id'])\n",
    "print(\"I found {0} data\".format(len(idList)))\n",
    "APIKEY = '9909636708656db1536984c8a27c35ee'\n",
    "for i in idList:\n",
    "    ID = str(i)\n",
    "    url = 'http://api.openweathermap.org/data/2.5/weather?id=' + ID + '&APPID=' + APIKEY\n",
    "    r = requests.get(url)\n",
    "    data = r.json()\n",
    "    \n",
    "    print(str(data['main']['humidity']) + \" \" +\"degrees Fahrenheit\")"
   ]
  }
 ],
 "metadata": {
  "kernelspec": {
   "display_name": "Python 3",
   "language": "python",
   "name": "python3"
  },
  "language_info": {
   "codemirror_mode": {
    "name": "ipython",
    "version": 3
   },
   "file_extension": ".py",
   "mimetype": "text/x-python",
   "name": "python",
   "nbconvert_exporter": "python",
   "pygments_lexer": "ipython3",
   "version": "3.6.1"
  }
 },
 "nbformat": 4,
 "nbformat_minor": 2
}
