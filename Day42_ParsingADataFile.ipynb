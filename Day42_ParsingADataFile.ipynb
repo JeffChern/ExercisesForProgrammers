{
 "cells": [
  {
   "cell_type": "code",
   "execution_count": 8,
   "metadata": {},
   "outputs": [
    {
     "name": "stdout",
     "output_type": "stream",
     "text": [
      "Last      First       Salary\n",
      "--------  --------  --------\n",
      "Ling      Mai          55900\n",
      "Johnson   Jim          56500\n",
      "Jones     Aaron        46000\n",
      "Jones     Chris        34500\n",
      "Swift     Geoffrey     14200\n",
      "Xiong     Fong         65000\n",
      "Zarnecki  Sabrina      51500\n"
     ]
    }
   ],
   "source": [
    "from tabulate import tabulate\n",
    "file = open(\"Salary.txt\",\"r\")\n",
    "formattedList = []\n",
    "for line in file:\n",
    "    formattedList.append(line.strip().split(','))\n",
    "print(tabulate(formattedList, headers=['Last', 'First', 'Salary']))"
   ]
  }
 ],
 "metadata": {
  "kernelspec": {
   "display_name": "Python 3",
   "language": "python",
   "name": "python3"
  },
  "language_info": {
   "codemirror_mode": {
    "name": "ipython",
    "version": 3
   },
   "file_extension": ".py",
   "mimetype": "text/x-python",
   "name": "python",
   "nbconvert_exporter": "python",
   "pygments_lexer": "ipython3",
   "version": "3.6.1"
  }
 },
 "nbformat": 4,
 "nbformat_minor": 2
}
