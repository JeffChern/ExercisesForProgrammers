{
 "cells": [
  {
   "cell_type": "code",
   "execution_count": 79,
   "metadata": {},
   "outputs": [
    {
     "name": "stdout",
     "output_type": "stream",
     "text": [
      "What is the product name? iPad\n",
      "Sorry, that product was not found in our inventory. \n",
      "What is the product name? Widget\n",
      "Name: Widget\n",
      "Price: $25.00\n",
      "Quantity: 5\n"
     ]
    }
   ],
   "source": [
    "import json\n",
    "\n",
    "with open('Product.json') as data_file:    \n",
    "    data = json.load(data_file)\n",
    "    \n",
    "count = 0\n",
    "while(count == 0 ):\n",
    "    searchName = input(\"What is the product name? \")\n",
    "    for i in range(0,len(data[\"products\"])):\n",
    "        if data[\"products\"][i]['name'] == searchName:\n",
    "            print(\"Name: {0}\".format(data[\"products\"][i]['name']))\n",
    "            print(\"Price: ${0}\".format('%.2f' %data[\"products\"][i]['price']))\n",
    "            print(\"Quantity: {0}\".format(data[\"products\"][i]['quantity']))\n",
    "            count += 1\n",
    "    if count == 0:\n",
    "        print(\"Sorry, that product was not found in our inventory. \")"
   ]
  }
 ],
 "metadata": {
  "kernelspec": {
   "display_name": "Python 3",
   "language": "python",
   "name": "python3"
  },
  "language_info": {
   "codemirror_mode": {
    "name": "ipython",
    "version": 3
   },
   "file_extension": ".py",
   "mimetype": "text/x-python",
   "name": "python",
   "nbconvert_exporter": "python",
   "pygments_lexer": "ipython3",
   "version": "3.6.1"
  }
 },
 "nbformat": 4,
 "nbformat_minor": 2
}
