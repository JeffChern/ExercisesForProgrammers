{
 "cells": [
  {
   "cell_type": "code",
   "execution_count": 47,
   "metadata": {},
   "outputs": [
    {
     "name": "stdout",
     "output_type": "stream",
     "text": [
      "Enter a list of numbers, separated by spaces:1 2 3 4 5 6 7 8 \n",
      "The even numbers are 2 4 6 8.\n"
     ]
    }
   ],
   "source": [
    "\n",
    "numbers = input(\"Enter a list of numbers, separated by spaces:\")\n",
    "oldList = numbers.split()\n",
    "\n",
    "def filterEvenNumbers(oldList):\n",
    "    newList = []\n",
    "    for i in oldList:\n",
    "        i = int(i)\n",
    "        if i %2 ==0:\n",
    "            newList.append(str(i))\n",
    "    return ' '.join(newList)\n",
    "    \n",
    "\n",
    "print(\"The even numbers are {0}.\".format(filterEvenNumbers(oldList)))\n"
   ]
  }
 ],
 "metadata": {
  "kernelspec": {
   "display_name": "Python 3",
   "language": "python",
   "name": "python3"
  },
  "language_info": {
   "codemirror_mode": {
    "name": "ipython",
    "version": 3
   },
   "file_extension": ".py",
   "mimetype": "text/x-python",
   "name": "python",
   "nbconvert_exporter": "python",
   "pygments_lexer": "ipython3",
   "version": "3.6.1"
  }
 },
 "nbformat": 4,
 "nbformat_minor": 2
}
