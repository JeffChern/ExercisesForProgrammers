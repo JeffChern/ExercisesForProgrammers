{
 "cells": [
  {
   "cell_type": "code",
   "execution_count": 47,
   "metadata": {},
   "outputs": [
    {
     "name": "stdout",
     "output_type": "stream",
     "text": [
      "Enter a list of numbers, separated by spaces:1 2 3 4 5 6 7 8 \n",
      "The even numbers are 2 4 6 8.\n"
     ]
    }
   ],
   "source": [
    "\n",
    "numbers = input(\"Enter a list of numbers, separated by spaces:\")\n",
    "oldList = numbers.split()\n",
    "\n",
    "def filterEvenNumbers(oldList):\n",
    "    newList = []\n",
    "    for i in oldList:\n",
    "        i = int(i)\n",
    "        if i %2 ==0:\n",
    "            newList.append(str(i))\n",
    "    return ' '.join(newList)\n",
    "    \n",
    "\n",
    "print(\"The even numbers are {0}.\".format(filterEvenNumbers(oldList)))\n"
   ]
  },
  {
   "cell_type": "code",
   "execution_count": 49,
   "metadata": {},
   "outputs": [
    {
     "name": "stdout",
     "output_type": "stream",
     "text": [
      "<filter object at 0x1027d2748>\n"
     ]
    }
   ],
   "source": [
    "\n",
    "a = [1, 2, 3, 4]\n",
    "b = filter(lambda x: x%2 == 0, a)\n",
    "print(b)"
   ]
  },
  {
   "cell_type": "code",
   "execution_count": 53,
   "metadata": {},
   "outputs": [
    {
     "ename": "SyntaxError",
     "evalue": "invalid syntax (<ipython-input-53-e40166aa8f45>, line 2)",
     "output_type": "error",
     "traceback": [
      "\u001b[0;36m  File \u001b[0;32m\"<ipython-input-53-e40166aa8f45>\"\u001b[0;36m, line \u001b[0;32m2\u001b[0m\n\u001b[0;31m    os<tab>\u001b[0m\n\u001b[0m           ^\u001b[0m\n\u001b[0;31mSyntaxError\u001b[0m\u001b[0;31m:\u001b[0m invalid syntax\n"
     ]
    }
   ],
   "source": []
  }
 ],
 "metadata": {
  "kernelspec": {
   "display_name": "Python 3",
   "language": "python",
   "name": "python3"
  },
  "language_info": {
   "codemirror_mode": {
    "name": "ipython",
    "version": 3
   },
   "file_extension": ".py",
   "mimetype": "text/x-python",
   "name": "python",
   "nbconvert_exporter": "python",
   "pygments_lexer": "ipython3",
   "version": "3.6.1"
  }
 },
 "nbformat": 4,
 "nbformat_minor": 2
}
