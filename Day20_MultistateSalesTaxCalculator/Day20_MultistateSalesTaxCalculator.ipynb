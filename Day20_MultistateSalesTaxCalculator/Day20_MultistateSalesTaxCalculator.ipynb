{
 "cells": [
  {
   "cell_type": "code",
   "execution_count": 3,
   "metadata": {},
   "outputs": [
    {
     "name": "stdout",
     "output_type": "stream",
     "text": [
      "What is the order amount? 10\n",
      "What state do you live in? Wisconsin\n",
      "The tax is $0.50. The total is $10.50.\n"
     ]
    }
   ],
   "source": [
    "amount = float(input(\"What is the order amount? \"))\n",
    "state = input(\"What state do you live in? \").lower()\n",
    "tax = 0\n",
    "if state == \"wisconsin\":\n",
    "    tax = 0.05\n",
    "elif state == \"illinois\":\n",
    "    tax = 0.08\n",
    "tax *= amount\n",
    "total = tax + amount\n",
    "print(\"The tax is ${0}. The total is ${1}.\".format('%.2f' %tax, '%.2f' %total))"
   ]
  },
  {
   "cell_type": "code",
   "execution_count": null,
   "metadata": {
    "collapsed": true
   },
   "outputs": [],
   "source": []
  }
 ],
 "metadata": {
  "kernelspec": {
   "display_name": "Python 3",
   "language": "python",
   "name": "python3"
  },
  "language_info": {
   "codemirror_mode": {
    "name": "ipython",
    "version": 3
   },
   "file_extension": ".py",
   "mimetype": "text/x-python",
   "name": "python",
   "nbconvert_exporter": "python",
   "pygments_lexer": "ipython3",
   "version": "3.6.1"
  }
 },
 "nbformat": 4,
 "nbformat_minor": 2
}
