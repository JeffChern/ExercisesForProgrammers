{
 "cells": [
  {
   "cell_type": "code",
   "execution_count": 47,
   "metadata": {},
   "outputs": [
    {
     "name": "stdout",
     "output_type": "stream",
     "text": [
      "Name                 Position           Separation Date\n",
      "-------------------  -----------------  -----------------\n",
      "John Johnson         Manager            2016-12-31\n",
      "Tou Xiong            Software Engineer  2016-10-05\n",
      "Michaela Michaelson  District Manager   2015-12-19\n",
      "Jake Jacobson        Programmer\n",
      "Jacquelyn Jackson    DBA\n",
      "Sally Weber          Web Developer      2015-12-18\n",
      "\n",
      "Enter a search string: on\n",
      "\n",
      "---------------------After searching---------------------\n",
      "\n",
      "Name                 Position           Separation Date\n",
      "-------------------  -----------------  -----------------\n",
      "John Johnson         Manager            2016-12-31\n",
      "Tou Xiong            Software Engineer  2016-10-05\n",
      "Michaela Michaelson  District Manager   2015-12-19\n",
      "Jake Jacobson        Programmer\n",
      "Jacquelyn Jackson    DBA\n"
     ]
    }
   ],
   "source": [
    "from tabulate import tabulate\n",
    "Position = [[\"John Johnson\",\"Manager\",\"2016-12-31\"],\n",
    "             [\"Tou Xiong\",\"Software Engineer\",\"2016-10-05\"],\n",
    "             [\"Michaela Michaelson\",\"District Manager\",\"2015-12-19\"],\n",
    "             [\"Jake Jacobson\",\"Programmer\"],\n",
    "             [\"Jacquelyn Jackson\",\"DBA\"],\n",
    "             [\"Sally Weber\",\"Web Developer\",\"2015-12-18\"]]\n",
    "\n",
    "print(tabulate(Position, headers=[\"Name\",\"Position\",\"Separation Date\"]))\n",
    "\n",
    "\n",
    "search = input(\"\\nEnter a search string: \")\n",
    "print('\\n' + '-'*21 + 'After searching'+'-'*21 + '\\n')\n",
    "matching =  [x for x in Position for s in x if search in s]\n",
    "\n",
    "print(tabulate(matching, headers=[\"Name\",\"Position\",\"Separation Date\"]))\n",
    "\n"
   ]
  }
 ],
 "metadata": {
  "kernelspec": {
   "display_name": "Python 3",
   "language": "python",
   "name": "python3"
  },
  "language_info": {
   "codemirror_mode": {
    "name": "ipython",
    "version": 3
   },
   "file_extension": ".py",
   "mimetype": "text/x-python",
   "name": "python",
   "nbconvert_exporter": "python",
   "pygments_lexer": "ipython3",
   "version": "3.6.1"
  }
 },
 "nbformat": 4,
 "nbformat_minor": 2
}
