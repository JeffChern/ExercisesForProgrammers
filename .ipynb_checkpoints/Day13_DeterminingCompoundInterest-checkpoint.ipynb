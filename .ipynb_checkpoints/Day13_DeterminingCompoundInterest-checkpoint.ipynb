{
 "cells": [
  {
   "cell_type": "code",
   "execution_count": 1,
   "metadata": {},
   "outputs": [
    {
     "name": "stdout",
     "output_type": "stream",
     "text": [
      "What is the principal amount? 1500\n",
      "What is the rate? 4.3\n",
      "What is the number of years? 6\n",
      "What is the number of times the interest is compounded per year? 4\n",
      "$1500 invested at 4.3% for 6 years compounded 4 times per year is $1938.84.\n"
     ]
    }
   ],
   "source": [
    "principal = int(input(\"What is the principal amount? \"))\n",
    "rate = float(input(\"What is the rate? \"))\n",
    "years = int(input(\"What is the number of years? \"))\n",
    "times = int(input(\"What is the number of times the interest is compounded per year? \"))\n",
    "total = principal * (1 + rate * 0.01 / times) ** (times * years)\n",
    "print(\"${0} invested at {1}% for {2} years compounded {3} times per year is ${4}.\".format(principal, rate, years, times,'%.2f' %total))\n",
    "\n"
   ]
  },
  {
   "cell_type": "code",
   "execution_count": null,
   "metadata": {
    "collapsed": true
   },
   "outputs": [],
   "source": []
  }
 ],
 "metadata": {
  "kernelspec": {
   "display_name": "Python 3",
   "language": "python",
   "name": "python3"
  },
  "language_info": {
   "codemirror_mode": {
    "name": "ipython",
    "version": 3
   },
   "file_extension": ".py",
   "mimetype": "text/x-python",
   "name": "python",
   "nbconvert_exporter": "python",
   "pygments_lexer": "ipython3",
   "version": "3.6.1"
  }
 },
 "nbformat": 4,
 "nbformat_minor": 2
}
