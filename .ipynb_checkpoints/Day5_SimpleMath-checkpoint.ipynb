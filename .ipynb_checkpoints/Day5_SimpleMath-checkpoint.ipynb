{
 "cells": [
  {
   "cell_type": "code",
   "execution_count": 26,
   "metadata": {},
   "outputs": [
    {
     "name": "stdout",
     "output_type": "stream",
     "text": [
      "What is the first number? 10\n",
      "What is the second number? 5\n",
      "10 + 5 = 15\n",
      "10 - 5 = 5\n",
      "10 * 5 = 50\n",
      "10 / 5 = 2\n"
     ]
    }
   ],
   "source": [
    "firstNumber = input(\"What is the first number? \")\n",
    "secondNumber = input(\"What is the second number? \")\n",
    "\n",
    "def Plus(first, second):\n",
    "    total = int(first) + int(second)\n",
    "    return total\n",
    "def Minus(first, second):\n",
    "    total = int(first) - int(second)\n",
    "    return total\n",
    "def Root(first, second):\n",
    "    total = int(first) * int(second)\n",
    "    return total\n",
    "def Square(first, second):\n",
    "    total = int(first) / int(second)\n",
    "    return int(total)\n",
    "\n",
    "print (\"{0} + {1} = {2}\".format(firstNumber, secondNumber, Plus(firstNumber, secondNumber)))\n",
    "print (\"{0} - {1} = {2}\".format(firstNumber, secondNumber, Minus(firstNumber, secondNumber))) \n",
    "print (\"{0} * {1} = {2}\".format(firstNumber, secondNumber, Root(firstNumber, secondNumber))) \n",
    "print (\"{0} / {1} = {2}\".format(firstNumber, secondNumber, Square(firstNumber, secondNumber)))    \n",
    "       \n",
    "    "
   ]
  },
  {
   "cell_type": "markdown",
   "metadata": {},
   "source": []
  }
 ],
 "metadata": {
  "kernelspec": {
   "display_name": "Python 3",
   "language": "python",
   "name": "python3"
  },
  "language_info": {
   "codemirror_mode": {
    "name": "ipython",
    "version": 3
   },
   "file_extension": ".py",
   "mimetype": "text/x-python",
   "name": "python",
   "nbconvert_exporter": "python",
   "pygments_lexer": "ipython3",
   "version": "3.6.1"
  }
 },
 "nbformat": 4,
 "nbformat_minor": 2
}
