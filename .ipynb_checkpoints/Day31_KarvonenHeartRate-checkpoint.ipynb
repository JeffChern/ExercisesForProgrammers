{
 "cells": [
  {
   "cell_type": "code",
   "execution_count": 25,
   "metadata": {},
   "outputs": [
    {
     "name": "stdout",
     "output_type": "stream",
     "text": [
      "Resting Pulse: 65\n",
      "Age: 22\n",
      "Intensity    | Rate\n",
      "-------------|--------\n",
      "55%          | 138 bpm\n",
      "60%          | 145 bpm\n",
      "65%          | 151 bpm\n",
      "70%          | 158 bpm\n",
      "75%          | 165 bpm\n",
      "80%          | 171 bpm\n",
      "85%          | 178 bpm\n",
      "90%          | 185 bpm\n",
      "95%          | 191 bpm\n"
     ]
    }
   ],
   "source": [
    "pulse, age = int(input(\"Resting Pulse: \")), int(input(\"Age: \"))\n",
    "num = 55\n",
    "print(\"Intensity    | Rate\\n\" + \"-------------|--------\")\n",
    "while num<=95:\n",
    "    TargetHeartRate = (((220 - age) - pulse) * 0.01 * num) + pulse\n",
    "    print(\"{0}%          | {1} bpm\".format(num,round(TargetHeartRate)))\n",
    "    num += 5\n",
    "\n"
   ]
  }
 ],
 "metadata": {
  "kernelspec": {
   "display_name": "Python 3",
   "language": "python",
   "name": "python3"
  },
  "language_info": {
   "codemirror_mode": {
    "name": "ipython",
    "version": 3
   },
   "file_extension": ".py",
   "mimetype": "text/x-python",
   "name": "python",
   "nbconvert_exporter": "python",
   "pygments_lexer": "ipython3",
   "version": "3.6.1"
  }
 },
 "nbformat": 4,
 "nbformat_minor": 2
}
