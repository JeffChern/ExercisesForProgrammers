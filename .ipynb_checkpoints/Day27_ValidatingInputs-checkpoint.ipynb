{
 "cells": [
  {
   "cell_type": "code",
   "execution_count": 190,
   "metadata": {},
   "outputs": [
    {
     "name": "stdout",
     "output_type": "stream",
     "text": [
      "Enter the first name: J\n",
      "Enter the last name: \n",
      "Enter the ZIP code: ABCDE\n",
      "Enter an employee ID: A12-1234\n",
      "'J' is not a valid first name. It is too short.\n",
      "The last name must be filled in.\n",
      "The ZIP code must be numeric.\n",
      "A12-1234 is not a valid ID.\n"
     ]
    }
   ],
   "source": [
    "import re\n",
    "firstName = input(\"Enter the first name: \")\n",
    "lastName = input(\"Enter the last name: \")\n",
    "zipCode = input(\"Enter the ZIP code: \")\n",
    "employeeID = input(\"Enter an employee ID: \")\n",
    "\n",
    "def validateInput():\n",
    "    Error = 0\n",
    "    if firstName == '':\n",
    "        print(\"The first name must be filled in.\")\n",
    "    elif re.match(\"[A-Za-z]{2,}\", firstName):\n",
    "        Error += 1 \n",
    "    else:\n",
    "        print(\"'{0}' is not a valid first name. It is too short.\".format(firstName))  \n",
    "    if lastName == '':\n",
    "        print(\"The last name must be filled in.\")\n",
    "    elif re.match(\"[A-Za-z]{2,}\", lastName):\n",
    "        Error += 1 \n",
    "    else:\n",
    "        print(\"'{0}' is not a valid last name. It is too short.\".format(lastName)) \n",
    "    if zipCode == '':\n",
    "        print(\"The ZIP Code must be filled in.\")\n",
    "    elif zipCode.isdigit():\n",
    "        Error += 1 \n",
    "    else:\n",
    "        print(\"The ZIP code must be numeric.\")\n",
    "    if employeeID == '':\n",
    "        print(\"The employee ID must be filled in.\")\n",
    "    elif re.match(\"[A-Za-z]{2}[\\-][\\d]{3,4}\", employeeID):\n",
    "        Error += 1 \n",
    "    else:\n",
    "        print(\"{0} is not a valid ID.\".format(employeeID))\n",
    "    if Error == 4:\n",
    "        print(\"There were no errors found.\")\n",
    "        \n",
    "validateInput()\n",
    "\n"
   ]
  },
  {
   "cell_type": "code",
   "execution_count": null,
   "metadata": {
    "collapsed": true
   },
   "outputs": [],
   "source": []
  }
 ],
 "metadata": {
  "kernelspec": {
   "display_name": "Python 3",
   "language": "python",
   "name": "python3"
  },
  "language_info": {
   "codemirror_mode": {
    "name": "ipython",
    "version": 3
   },
   "file_extension": ".py",
   "mimetype": "text/x-python",
   "name": "python",
   "nbconvert_exporter": "python",
   "pygments_lexer": "ipython3",
   "version": "3.6.1"
  }
 },
 "nbformat": 4,
 "nbformat_minor": 2
}
