{
 "cells": [
  {
   "cell_type": "code",
   "execution_count": 1,
   "metadata": {},
   "outputs": [
    {
     "name": "stdout",
     "output_type": "stream",
     "text": [
      "How many people? 8\n",
      "How many pizzas do you have? 2\n",
      "\n",
      "8 people with 2 pizzas\n",
      "Each person gets 2 pieces of pizza.\n",
      "There are 0 leftover pieces.\n"
     ]
    }
   ],
   "source": [
    "people = int(input(\"How many people? \"))\n",
    "pizza = int(input(\"How many pizzas do you have? \"))\n",
    "quotient = int(pizza * 8 / people)\n",
    "remainder = pizza * 8 % people\n",
    "\n",
    "print(\"\\n{0} people with {1} pizzas\".format(people, pizza))\n",
    "print(\"Each person gets {0} pieces of pizza.\".format(quotient))\n",
    "print(\"There are {0} leftover pieces.\".format(remainder))"
   ]
  },
  {
   "cell_type": "code",
   "execution_count": null,
   "metadata": {
    "collapsed": true
   },
   "outputs": [],
   "source": []
  }
 ],
 "metadata": {
  "kernelspec": {
   "display_name": "Python 3",
   "language": "python",
   "name": "python3"
  },
  "language_info": {
   "codemirror_mode": {
    "name": "ipython",
    "version": 3
   },
   "file_extension": ".py",
   "mimetype": "text/x-python",
   "name": "python",
   "nbconvert_exporter": "python",
   "pygments_lexer": "ipython3",
   "version": "3.6.1"
  }
 },
 "nbformat": 4,
 "nbformat_minor": 2
}
