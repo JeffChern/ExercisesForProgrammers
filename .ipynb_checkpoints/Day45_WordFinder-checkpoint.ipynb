{
 "cells": [
  {
   "cell_type": "code",
   "execution_count": 22,
   "metadata": {},
   "outputs": [],
   "source": [
    "with open(\"WordFinderInput.txt\", \"r\") as file:\n",
    "    data = file.read()\n",
    "    with  open(\"WordFinderOutput.txt\", \"w\") as f:\n",
    "          f.write(data.replace(\"utilize\",\"use\"))\n",
    "file.close()\n",
    "\n",
    "\n",
    "\n"
   ]
  }
 ],
 "metadata": {
  "kernelspec": {
   "display_name": "Python 3",
   "language": "python",
   "name": "python3"
  },
  "language_info": {
   "codemirror_mode": {
    "name": "ipython",
    "version": 3
   },
   "file_extension": ".py",
   "mimetype": "text/x-python",
   "name": "python",
   "nbconvert_exporter": "python",
   "pygments_lexer": "ipython3",
   "version": "3.6.1"
  }
 },
 "nbformat": 4,
 "nbformat_minor": 2
}
