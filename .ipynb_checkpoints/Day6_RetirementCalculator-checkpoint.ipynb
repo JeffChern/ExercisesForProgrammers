{
 "cells": [
  {
   "cell_type": "code",
   "execution_count": 2,
   "metadata": {},
   "outputs": [
    {
     "name": "stdout",
     "output_type": "stream",
     "text": [
      "What is your current age? 25\n",
      "At what age would you like to retire? 60\n",
      "You have 35 years left until you can retire.\n",
      "It's 2017, so you can retire in 2052.\n"
     ]
    }
   ],
   "source": [
    "import time\n",
    "currentYear = time.strftime(\"%Y\")\n",
    "currentAge = int(input(\"What is your current age? \"))\n",
    "retiredAge = int(input(\"At what age would you like to retire? \"))\n",
    "interval = retiredAge - currentAge\n",
    "retiredYear = int(currentYear) + interval\n",
    "\n",
    "print(\"You have {0} years left until you can retire.\".format(interval))\n",
    "print(\"It's {0}, so you can retire in {1}.\".format(currentYear, retiredYear))"
   ]
  },
  {
   "cell_type": "code",
   "execution_count": null,
   "metadata": {
    "collapsed": true
   },
   "outputs": [],
   "source": []
  }
 ],
 "metadata": {
  "kernelspec": {
   "display_name": "Python 3",
   "language": "python",
   "name": "python3"
  },
  "language_info": {
   "codemirror_mode": {
    "name": "ipython",
    "version": 3
   },
   "file_extension": ".py",
   "mimetype": "text/x-python",
   "name": "python",
   "nbconvert_exporter": "python",
   "pygments_lexer": "ipython3",
   "version": "3.6.1"
  }
 },
 "nbformat": 4,
 "nbformat_minor": 2
}
