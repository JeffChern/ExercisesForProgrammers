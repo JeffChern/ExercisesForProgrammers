{
 "cells": [
  {
   "cell_type": "code",
   "execution_count": 17,
   "metadata": {},
   "outputs": [
    {
     "name": "stdout",
     "output_type": "stream",
     "text": [
      "What is the length of the room in feet? 15\n",
      "What is the width of the room in feet? 20\n",
      "You entered dimensions of 15 feet by 20 feet.\n",
      "The area is 300 square feet 27.871 square meters\n"
     ]
    }
   ],
   "source": [
    "length = int(input(\"What is the length of the room in feet? \"))\n",
    "width = int(input(\"What is the width of the room in feet? \"))\n",
    "squareFeet = length * width\n",
    "squareMeters = float('%.3f' %(squareFeet  * 0.09290304))\n",
    "print(\"You entered dimensions of {0} feet by {1} feet.\".format(length, width))\n",
    "print(\"The area is {0} square feet {1} square meters\".format(squareFeet, squareMeters))\n"
   ]
  },
  {
   "cell_type": "code",
   "execution_count": null,
   "metadata": {
    "collapsed": true
   },
   "outputs": [],
   "source": []
  }
 ],
 "metadata": {
  "kernelspec": {
   "display_name": "Python 3",
   "language": "python",
   "name": "python3"
  },
  "language_info": {
   "codemirror_mode": {
    "name": "ipython",
    "version": 3
   },
   "file_extension": ".py",
   "mimetype": "text/x-python",
   "name": "python",
   "nbconvert_exporter": "python",
   "pygments_lexer": "ipython3",
   "version": "3.6.1"
  }
 },
 "nbformat": 4,
 "nbformat_minor": 2
}
