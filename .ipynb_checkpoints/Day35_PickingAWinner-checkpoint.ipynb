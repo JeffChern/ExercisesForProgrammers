{
 "cells": [
  {
   "cell_type": "code",
   "execution_count": 38,
   "metadata": {},
   "outputs": [
    {
     "name": "stdout",
     "output_type": "stream",
     "text": [
      "Enter a name: Homer\n",
      "Enter a name: Bart\n",
      "Enter a name: Maggie\n",
      "Enter a name: Lisa\n",
      "Enter a name: Moe\n",
      "Enter a name: \n",
      "The winner is... Lisa.\n"
     ]
    }
   ],
   "source": [
    "import random\n",
    "\n",
    "name = 'default_value'\n",
    "nameList = []\n",
    "while name != '':\n",
    "    name = input(\"Enter a name: \")\n",
    "    if name == '':\n",
    "        break\n",
    "    else:\n",
    "        nameList.append(name)\n",
    "randomNumber = random.randint(0, len(nameList))\n",
    "print(\"The winner is... {0}.\".format(nameList[randomNumber]))\n"
   ]
  }
 ],
 "metadata": {
  "kernelspec": {
   "display_name": "Python 3",
   "language": "python",
   "name": "python3"
  },
  "language_info": {
   "codemirror_mode": {
    "name": "ipython",
    "version": 3
   },
   "file_extension": ".py",
   "mimetype": "text/x-python",
   "name": "python",
   "nbconvert_exporter": "python",
   "pygments_lexer": "ipython3",
   "version": "3.6.1"
  }
 },
 "nbformat": 4,
 "nbformat_minor": 2
}
