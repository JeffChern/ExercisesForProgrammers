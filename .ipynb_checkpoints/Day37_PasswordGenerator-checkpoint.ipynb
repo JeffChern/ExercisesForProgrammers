{
 "cells": [
  {
   "cell_type": "code",
   "execution_count": 64,
   "metadata": {},
   "outputs": [
    {
     "name": "stdout",
     "output_type": "stream",
     "text": [
      "What's the minimum length? 8\n",
      "How many special characters? 4\n",
      "How many numbers? 2\n",
      "Your password is 8+m*t=$6\n"
     ]
    }
   ],
   "source": [
    "import random\n",
    "length = int(input(\"What's the minimum length? \"))\n",
    "specialChar = int(input(\"How many special characters? \"))\n",
    "numbers = int(input(\"How many numbers? \"))\n",
    "\n",
    "\n",
    "def passwordGenerator(length, specialChar, numbers):\n",
    "    password = []\n",
    "    password_str = \"\"\n",
    "    for i in range(0,numbers):\n",
    "        password.append(random.choice('0123456789'))\n",
    "    for i in range(0, specialChar):\n",
    "        password.append(random.choice('!@#$%^&*()_+=-'))\n",
    "    for i in range(0, length - numbers - specialChar):\n",
    "        password.append(random.choice('abcdefghijklmnopqrstuvwxyzABCDEFGHIJKLMNOPQRSTUVWXYZ'))\n",
    "    random.shuffle(password)\n",
    "    for i in password:\n",
    "        password_str += i\n",
    "    return password_str\n",
    "    \n",
    "result = passwordGenerator(length, specialChar, numbers)\n",
    "\n",
    "print(\"Your password is {0}\".format(result))\n"
   ]
  }
 ],
 "metadata": {
  "kernelspec": {
   "display_name": "Python 3",
   "language": "python",
   "name": "python3"
  },
  "language_info": {
   "codemirror_mode": {
    "name": "ipython",
    "version": 3
   },
   "file_extension": ".py",
   "mimetype": "text/x-python",
   "name": "python",
   "nbconvert_exporter": "python",
   "pygments_lexer": "ipython3",
   "version": "3.6.1"
  }
 },
 "nbformat": 4,
 "nbformat_minor": 2
}
