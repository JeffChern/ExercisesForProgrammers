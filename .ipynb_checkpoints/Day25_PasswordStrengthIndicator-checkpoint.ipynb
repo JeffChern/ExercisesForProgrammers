{
 "cells": [
  {
   "cell_type": "code",
   "execution_count": 19,
   "metadata": {},
   "outputs": [
    {
     "name": "stdout",
     "output_type": "stream",
     "text": [
      "Enter your password. 1337h@xor!\n",
      "The password 1337h@xor! is a very strong password\n"
     ]
    }
   ],
   "source": [
    "import re\n",
    "password = input(\"Enter your password. \")\n",
    "def passwordValidator(password):\n",
    "    if re.match(\"^[0-9]{0,7}$\", password):\n",
    "        word = \"very weak\"\n",
    "    elif re.match(\"^[a-zA-Z]{0,7}$\", password):\n",
    "        word = \"weak\"\n",
    "    elif re.match(\"^(?=.*[A-Za-z])(?=.*\\d)[A-Za-z\\d]{8,}$\", password):\n",
    "        word = \"strong\"\n",
    "    elif re.match(\"^(?=.*[A-Za-z])(?=.*\\W)(?=.*\\d)[A-Za-z\\d\\W]{8,}$\", password):\n",
    "        word = \"very strong\"\n",
    "    else:\n",
    "        word = \"normal\"\n",
    "    print(\"The password {0} is a {1} password\".format(password, word))     \n",
    "    \n",
    "passwordValidator(password)\n",
    "        "
   ]
  },
  {
   "cell_type": "code",
   "execution_count": null,
   "metadata": {
    "collapsed": true
   },
   "outputs": [],
   "source": []
  }
 ],
 "metadata": {
  "kernelspec": {
   "display_name": "Python 3",
   "language": "python",
   "name": "python3"
  },
  "language_info": {
   "codemirror_mode": {
    "name": "ipython",
    "version": 3
   },
   "file_extension": ".py",
   "mimetype": "text/x-python",
   "name": "python",
   "nbconvert_exporter": "python",
   "pygments_lexer": "ipython3",
   "version": "3.6.1"
  }
 },
 "nbformat": 4,
 "nbformat_minor": 2
}
