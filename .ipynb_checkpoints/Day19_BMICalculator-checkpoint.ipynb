{
 "cells": [
  {
   "cell_type": "code",
   "execution_count": 14,
   "metadata": {},
   "outputs": [
    {
     "name": "stdout",
     "output_type": "stream",
     "text": [
      "Height in inches 73.3\n",
      "Weight in pounds 189\n",
      "Your BMI is 24.7\n",
      "You are within the ideal weight range.\n"
     ]
    }
   ],
   "source": [
    "height = float(input(\"Height in inches \"))\n",
    "weight = int(input(\"Weight in pounds \"))\n",
    "bmi = (weight / (height * height)) * 703\n",
    "print(\"Your BMI is {0}\".format('%.1f' %bmi))\n",
    "if bmi > 25:\n",
    "    print(\"You are overweight. You should see your doctor.\")\n",
    "elif bmi <= 25 and bmi >=18.5:\n",
    "    print(\"You are within the ideal weight range.\")\n",
    "elif bmi < 18.5:\n",
    "    print(\"You are underweight. You should see your doctor.\")\n",
    "    "
   ]
  }
 ],
 "metadata": {
  "kernelspec": {
   "display_name": "Python 3",
   "language": "python",
   "name": "python3"
  },
  "language_info": {
   "codemirror_mode": {
    "name": "ipython",
    "version": 3
   },
   "file_extension": ".py",
   "mimetype": "text/x-python",
   "name": "python",
   "nbconvert_exporter": "python",
   "pygments_lexer": "ipython3",
   "version": "3.6.1"
  }
 },
 "nbformat": 4,
 "nbformat_minor": 2
}
