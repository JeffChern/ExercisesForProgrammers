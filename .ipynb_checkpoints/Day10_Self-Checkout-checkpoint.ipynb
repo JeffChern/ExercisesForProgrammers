{
 "cells": [
  {
   "cell_type": "code",
   "execution_count": 1,
   "metadata": {},
   "outputs": [
    {
     "name": "stdout",
     "output_type": "stream",
     "text": [
      "Enter the price of item 1: 25\n",
      "Enter the quantity of item 1: 2\n",
      "Enter the price of item 2: 10\n",
      "Enter the quantity of item 2: 1\n",
      "Enter the price of item 3: 4\n",
      "Enter the quantity of item 3: 1\n",
      "Subtotal: $64\n",
      "Tax: $3.52\n",
      "Total: $67.52\n"
     ]
    }
   ],
   "source": [
    "item1 = int(input(\"Enter the price of item 1: \"))\n",
    "quantity1 = int(input(\"Enter the quantity of item 1: \"))\n",
    "item2 = int(input(\"Enter the price of item 2: \"))\n",
    "quantity2 = int(input(\"Enter the quantity of item 2: \"))\n",
    "item3 = int(input(\"Enter the price of item 3: \"))\n",
    "quantity3 = int(input(\"Enter the quantity of item 3: \"))\n",
    "\n",
    "subtotal = item1 * quantity1 + item2 * quantity2 + item3 * quantity3\n",
    "tax = subtotal * 0.055\n",
    "print(\"Subtotal: ${0}\".format(subtotal))\n",
    "print(\"Tax: ${0}\".format(tax))\n",
    "print(\"Total: ${0}\".format(subtotal+tax))"
   ]
  },
  {
   "cell_type": "code",
   "execution_count": null,
   "metadata": {
    "collapsed": true
   },
   "outputs": [],
   "source": []
  }
 ],
 "metadata": {
  "kernelspec": {
   "display_name": "Python 3",
   "language": "python",
   "name": "python3"
  },
  "language_info": {
   "codemirror_mode": {
    "name": "ipython",
    "version": 3
   },
   "file_extension": ".py",
   "mimetype": "text/x-python",
   "name": "python",
   "nbconvert_exporter": "python",
   "pygments_lexer": "ipython3",
   "version": "3.6.1"
  }
 },
 "nbformat": 4,
 "nbformat_minor": 2
}
