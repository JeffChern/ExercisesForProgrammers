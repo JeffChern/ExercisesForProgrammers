{
 "cells": [
  {
   "cell_type": "code",
   "execution_count": 1,
   "metadata": {},
   "outputs": [
    {
     "name": "stdout",
     "output_type": "stream",
     "text": [
      "Enter the principal: 1500\n",
      "Enter the rate of interest: 4.3\n",
      "Enter the number of years: 4\n",
      "After 4 years at 4.3%, the investment will be worth $1758.\n"
     ]
    }
   ],
   "source": [
    "principal = int(input(\"Enter the principal: \"))\n",
    "rate = float(input(\"Enter the rate of interest: \"))\n",
    "years = int(input(\"Enter the number of years: \"))\n",
    "principal *= 1 + rate * years * 0.01  \n",
    "print(\"After {0} years at {1}%, the investment will be worth ${2}.\".format(years, rate, int(principal)))\n",
    "\n"
   ]
  },
  {
   "cell_type": "code",
   "execution_count": null,
   "metadata": {
    "collapsed": true
   },
   "outputs": [],
   "source": []
  }
 ],
 "metadata": {
  "kernelspec": {
   "display_name": "Python 3",
   "language": "python",
   "name": "python3"
  },
  "language_info": {
   "codemirror_mode": {
    "name": "ipython",
    "version": 3
   },
   "file_extension": ".py",
   "mimetype": "text/x-python",
   "name": "python",
   "nbconvert_exporter": "python",
   "pygments_lexer": "ipython3",
   "version": "3.6.1"
  }
 },
 "nbformat": 4,
 "nbformat_minor": 2
}
