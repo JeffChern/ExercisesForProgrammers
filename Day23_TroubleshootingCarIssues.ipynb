{
 "cells": [
  {
   "cell_type": "code",
   "execution_count": 20,
   "metadata": {},
   "outputs": [
    {
     "name": "stdout",
     "output_type": "stream",
     "text": [
      "Is the car silent when you turn the key? N\n",
      "Does the car make a clicking noise? N\n",
      "Does the car crank up but fail to start? N\n",
      "Does the engine start and then die? Y\n",
      "Does your car have fuel injection? N\n",
      "Check to ensure the choke is opening and closing.\n"
     ]
    }
   ],
   "source": [
    "q1 = input(\"Is the car silent when you turn the key? \").lower()\n",
    "if q1 == 'y' or q1 == 'yes':     \n",
    "    q2 = input(\"Are the battery terminals corroded? \").lower()\n",
    "    if q2 == 'y' or q2 == 'yes':\n",
    "        print(\"Clean terminals and try starting again.\")\n",
    "    elif q2 == 'n' or q2 == 'no':\n",
    "        print(\"Replace cables and try again.\")\n",
    "elif q1 == 'n' or q1 == 'no':\n",
    "    q3 = input(\"Does the car make a clicking noise? \").lower()\n",
    "    if q3 == 'y' or q3 == 'yes':\n",
    "        print(\"Replace the battery.\")\n",
    "    elif q3 == 'n' or q3 == 'no':\n",
    "        q4 = input(\"Does the car crank up but fail to start? \").lower()\n",
    "        if q4 == 'y' or q4 == 'yes':\n",
    "            print(\"Check spark plug connections.\")\n",
    "        elif q4 == 'n' or q4 == 'no':\n",
    "            q5 = input(\"Does the engine start and then die? \").lower()\n",
    "            if q5 == 'y' or q5 == 'yes':\n",
    "                q6 = input(\"Does your car have fuel injection? \").lower()\n",
    "                if q6 == 'y' or q6 == 'yes':\n",
    "                    print(\"Get it in for service.\")\n",
    "                elif q6 == 'n' or q6 == 'no':\n",
    "                    print(\"Check to ensure the choke is opening and closing.\")\n",
    "        "
   ]
  },
  {
   "cell_type": "code",
   "execution_count": null,
   "metadata": {
    "collapsed": true
   },
   "outputs": [],
   "source": []
  }
 ],
 "metadata": {
  "kernelspec": {
   "display_name": "Python 3",
   "language": "python",
   "name": "python3"
  },
  "language_info": {
   "codemirror_mode": {
    "name": "ipython",
    "version": 3
   },
   "file_extension": ".py",
   "mimetype": "text/x-python",
   "name": "python",
   "nbconvert_exporter": "python",
   "pygments_lexer": "ipython3",
   "version": "3.6.1"
  }
 },
 "nbformat": 4,
 "nbformat_minor": 2
}
